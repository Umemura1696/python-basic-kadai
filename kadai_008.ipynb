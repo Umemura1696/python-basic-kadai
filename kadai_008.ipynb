{
  "nbformat": 4,
  "nbformat_minor": 0,
  "metadata": {
    "colab": {
      "provenance": []
    },
    "kernelspec": {
      "name": "python3",
      "display_name": "Python 3"
    },
    "language_info": {
      "name": "python"
    }
  },
  "cells": [
    {
      "cell_type": "code",
      "execution_count": 8,
      "metadata": {
        "colab": {
          "base_uri": "https://localhost:8080/"
        },
        "id": "Y6Hc5-Y-zo46",
        "outputId": "b319487f-9c3e-4d92-b0b7-c4c099dee48f"
      },
      "outputs": [
        {
          "output_type": "stream",
          "name": "stdout",
          "text": [
            "Buzz\n"
          ]
        }
      ],
      "source": [
        "var=10\n",
        "\n",
        "if var % 3 ==0 and var % 5 ==0:\n",
        "  print(\"FizzBuzz\")\n",
        "elif var % 3==0:\n",
        "  print(\"Fizz\")\n",
        "elif var % 5==0:\n",
        "  print(\"Buzz\")\n",
        "else:\n",
        "  print(var)"
      ]
    }
  ]
}